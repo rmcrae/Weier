{
 "cells": [
  {
   "cell_type": "markdown",
   "id": "5b6d1250",
   "metadata": {},
   "source": [
    "# The Weierstrass Curve"
   ]
  },
  {
   "cell_type": "code",
   "execution_count": null,
   "id": "41a9de32",
   "metadata": {},
   "outputs": [],
   "source": [
    "%matplotlib inline\n",
    "from scipy import *\n",
    "from numpy import *\n",
    "from bqplot import *\n",
    "from pylab import *\n",
    "#import matplotlib.patches as patches\n",
    "import bqplot.pyplot as plt\n",
    "from bqplot.interacts import BrushIntervalSelector\n",
    "import ipywidgets as widgets\n",
    "from IPython.display import display, Latex, HTML, Math"
   ]
  },
  {
   "cell_type": "code",
   "execution_count": null,
   "id": "e8c0e5fd",
   "metadata": {},
   "outputs": [],
   "source": [
    "%%html\n",
    "<style>\n",
    "div.input {\n",
    "    display:none;\n",
    "}\n",
    "</style>"
   ]
  },
  {
   "cell_type": "code",
   "execution_count": null,
   "id": "af1a5c43",
   "metadata": {},
   "outputs": [],
   "source": [
    "# initial conditions\n",
    "nPts = 100000\n",
    "N = 5\n",
    "a = 0.75\n",
    "b = 4*pi\n",
    "low = 0\n",
    "high = 3\n"
   ]
  },
  {
   "cell_type": "code",
   "execution_count": null,
   "id": "b5680996",
   "metadata": {},
   "outputs": [],
   "source": [
    "# attempt to make little, spineless, intro plot\n",
    "\n",
    "# Weierstrass curve\n",
    "x = linspace(pi/3, pi, 500)\n",
    "W = zeros(500)\n",
    "for n in range(3):\n",
    "    W += a**n * cos(b**n * pi * x)\n",
    "\n",
    "\n",
    "\n",
    "fig = figure(figsize=(4.8, 3.2))\n",
    "out = plot(x,W, linewidth = 0.5)\n",
    "ax = gca()\n",
    "ax.axes.xaxis.set_ticks([])\n",
    "ax.axes.yaxis.set_ticks([])\n",
    "for item in ax.spines.values():\n",
    "    item.set_visible(False)"
   ]
  },
  {
   "cell_type": "markdown",
   "id": "8fa71d31",
   "metadata": {},
   "source": [
    "### What is a curve?\n",
    "\n",
    "Is it something you can draw?  If so, it must at least be *continuous*, or at least made of continuous segments.  Naively, one might think that it must have a determinate tangent at each point, since that determines the direction in which one would draw the curve...\n",
    "\n",
    "But one can easily come up with some quick counter-examples, say $f(x) = |x|$, or $g(x) = |sin(x)|$."
   ]
  },
  {
   "cell_type": "code",
   "execution_count": null,
   "id": "98518ba3",
   "metadata": {},
   "outputs": [],
   "source": [
    "demo_layout = widgets.Layout(height = \"200px\", width = \"250px\")\n",
    "fig_margin_dict = dict(top=30, bottom = 30, left = 20, right = 10)\n",
    "demo_fig = plt.figure(title = \"|x|\", layout = demo_layout, fig_margin = fig_margin_dict)\n",
    "x = linspace(-1, 1, 21)\n",
    "y = abs(x)\n",
    "plt.plot(x, y)\n",
    "xax, yax = plt.axes()['x'], plt.axes()['y']\n",
    "xax.num_ticks = 3\n",
    "yax.num_ticks = 0\n",
    "\n",
    "demo_fig2 = plt.figure(title = \"|sin(x)|\", layout = demo_layout, fig_margin = fig_margin_dict)\n",
    "x = linspace(0, 6*pi, 3000)\n",
    "y = abs(sin(x))\n",
    "plt.plot(x, y)\n",
    "xax, yax = plt.axes()['x'], plt.axes()['y']\n",
    "xax.num_ticks = 0\n",
    "yax.num_ticks = 0\n",
    "\n",
    "widgets.HBox([demo_fig, demo_fig2])"
   ]
  },
  {
   "cell_type": "markdown",
   "id": "349aed87",
   "metadata": {},
   "source": [
    "Ok, so maybe a curve should have a tangent *almost* everywhere.  Or so everyone thought in the early 1800's.  But then Lejeune Dirichlet defined a disturbing function in 1821:\n",
    "$$f(x) = \\begin{cases} 1 & x \\text{ irrational} \\\\ 0 & x \\text{ rational} \\end{cases}$$\n",
    "\n",
    "This is a function that is *nowhere* continuous; clearly not a 'curve' in the usual sense.  This function, one of the first monsters from the mathematical deep, induced some to start the search for a Continuous Nowhere Differentiable (CND) curve...\n",
    "\n",
    "One of the first attempts was by Bernard Bolzano in 1830 (although not published until much later); alas, he was able to prove that it was nondifferentiable \"only\" on a dense subset of the real line.  (It was proven to be CND later...)  Others followed.  Reimann apparently thought he had found one:\n",
    "\n",
    "$$ \\sum_{n=1}^{\\infty} \\frac{1}{n^2} sin(n^2x)$$\n",
    "\n",
    "but it is only \"nearly\" everywhere non-differentiable; it has a derivative of -1/2 at the points of the form $x = \\frac{p}{q} \\pi$, where $p$ and $q$ are odd integers.\n",
    "\n",
    "The first successful CND function was fount by Karl Weierstrass on July 18, 1872 -- 150 years ago!  Here it is:\n",
    "\n",
    "$$ W(x) = \\sum_{n=0}^{\\infty} a^n \\cos(b^n \\pi x)$$\n",
    "\n",
    "Furthermore, he was able to *prove* that it was CND using only a clever arrangement of elementary mathematical tools for the conditions $0 < a < 1$, $ab > 1 + \\frac{3}{2}\\pi$, and $b>1$ an odd integer.  These somewhat artificial conditions are due to the methods used in the proof rather than the function itself; conditions were made less stringent in a later proof by G. H. Hardy using less elementary methods: the treu conditions are $0 < a < 1$, $ab > 1 $, and $b>1$ .\n",
    "\n"
   ]
  },
  {
   "cell_type": "markdown",
   "id": "abcceee5",
   "metadata": {},
   "source": [
    "## Explore the Weierstrass Curve\n",
    "\n",
    "Below, you can see how the Weierstrass Curve is constructed by plotting the first five terms in the sum, seeing the effect of each as it is added.  In order to show detail -- even after only using the first five terms -- the plots below use 100,000 points each!  By clicking and dragging on the left plot, you can select a region to show with a new set of 100,000 points in the right hand plot.\n",
    "\n",
    "The double slider at the bottom allows you to control the range in the left plot; by changing this to [0, 0.3], you can then use the magnified plot to see most of the detail after 5 terms are added.\n",
    "\n",
    "Try a = 0.5, b = 5 for conditions that meet Hardy's requirement, but not Weierstrass's.  Try a = 0.5, b = 1.2 for conditions that don't meet the requirements."
   ]
  },
  {
   "cell_type": "code",
   "execution_count": null,
   "id": "1fbc9621",
   "metadata": {
    "scrolled": false
   },
   "outputs": [],
   "source": [
    "fig_layout = widgets.Layout(height = \"350px\", width = \"350px\")\n",
    "# main figure\n",
    "x = linspace(low, high, nPts)\n",
    "\n",
    "\n",
    "main_fig = plt.figure(title=\"Partial Weierstrass Curve\", layout = fig_layout, fig_margin = fig_margin_dict)\n",
    "ys = []\n",
    "for n in range(N):\n",
    "    ys.append(a**n * cos(b**n * pi * x))\n",
    "\n",
    "W_curve = plt.plot(x, ys[0])\n",
    "#xax, yax = plt.axes()['x'], plt.axes()['y']\n",
    "#xax.num_ticks = 6\n",
    "#yax.num_ticks = 5\n",
    "plt.xlim(low, high)\n",
    "brushintsel = BrushIntervalSelector(marks = [W_curve], scale = W_curve.scales['x'], color='lightgreen')\n",
    "main_fig.interaction = brushintsel\n",
    "\n",
    "# create magnified plot\n",
    "magni_fig = plt.figure(title=\"Magnified View\", layout = fig_layout, fig_margin=fig_margin_dict)\n",
    "\n",
    "magni_curve = plt.plot(x, ys[0])\n",
    "\n",
    "# plot box\n",
    "plotbox = widgets.HBox([main_fig, magni_fig])\n",
    "\n",
    "# curve parameters:\n",
    "entry_layout = widgets.Layout(width = '175px')\n",
    "\n",
    "a_entry = widgets.FloatText(value = a, layout = entry_layout, description = \"a = \")\n",
    "b_entry = widgets.FloatText(value = b, layout = entry_layout, description = \"b = \")\n",
    "param_label = widgets.Label(\"Weierstrass parameters: \")\n",
    "param_box = widgets.HBox([param_label, a_entry, b_entry])\n",
    "\n",
    "# number of terms to include:\n",
    "n_label = widgets.Label(\"Select number of terms to include: \")\n",
    "n_drop = widgets.Dropdown(options = range(1, N+1), value = 1)\n",
    "nbox = widgets.HBox([n_label, n_drop])\n",
    "           \n",
    "# range control\n",
    "rangeSlider = widgets.FloatRangeSlider(value = [low, high], min = 0, max = pi, step = 0.001,\n",
    "                                      description = \"range: \", continuous_update = False,\n",
    "                                      orientation = 'horizontal', readout_format = '.3f')\n",
    "\n",
    "def update_plot(change):\n",
    "    \n",
    "    N_new = n_drop.value\n",
    "    a = a_entry.value\n",
    "    b = b_entry.value\n",
    "    low, high = rangeSlider.value\n",
    "    x = linspace(low, high, nPts)\n",
    "    W_curve.x = x\n",
    "    W = 0\n",
    "    for n in range(N_new):\n",
    "        y = a**n * cos(b**n * pi * x)\n",
    "        #plot(x,y, label = n)\n",
    "        W += y\n",
    "    W_curve.y = W\n",
    "    \n",
    "    update_view('bitte')\n",
    "    \n",
    "def update_view(change):  \n",
    "    N_new = n_drop.value\n",
    "    a = a_entry.value\n",
    "    b = b_entry.value\n",
    "    if brushintsel.selected is not None:\n",
    "        low, high = brushintsel.selected\n",
    "    else:\n",
    "        low, high = rangeSlider.value\n",
    "        \n",
    "    x = linspace(low, high, nPts)\n",
    "    magni_curve.x = x\n",
    "    W = 0\n",
    "    for n in range(N_new):\n",
    "        y = a**n * cos(b**n * pi * x)\n",
    "        W += y\n",
    "    magni_curve.y = W\n",
    "       \n",
    "text_brush = widgets.HTML()\n",
    "def update_brush_text(*args):\n",
    "    #text_brush.value = \"The Brush's selected attribute is {} and brushing is {}\".format(brushintsel.selected,\n",
    "    #                                                                               brushintsel.brushing)\n",
    "    if not brushintsel.brushing:\n",
    "        update_view('yip')\n",
    "    \n",
    "# connections\n",
    "for widget in [n_drop, rangeSlider, a_entry, b_entry]:\n",
    "    widget.observe(update_plot, names = 'value')\n",
    "#.observe(update_plot, names = 'value')\n",
    "#rangeSlider.observe(update_plot, names = 'value')\n",
    "brushintsel.observe(update_brush_text, 'brushing')\n",
    "widgets.VBox([text_brush, plotbox, param_box, nbox, rangeSlider])"
   ]
  },
  {
   "cell_type": "markdown",
   "id": "d8511386",
   "metadata": {},
   "source": [
    "## The Proof\n",
    "\n",
    "I'm afraid the proof is a bit on the long side, and it was a royal pain to typeset.  I hope I haven't introduced any typos.  But really, each step is pretty easy to follow...\n",
    "\n",
    "Probably the most familiar definition of differentiability is that $f(x)$ is *differentiable* at a point $x_0$ of its domain iff\n",
    "\n",
    "$$ \\lim_{x \\rightarrow x_0} \\frac{f(x) - f(x_0)}{x - x_0}$$\n",
    "exists, in which case this limit is called the derivative of $f(x)$ at $x_0$.\n",
    "\n",
    "To follow Weierstrass's proof, we will use an equivalent definition reformulated in terms of sequences:  A function $f(x)$ is differentiable at a point $x_0$ iff, for every sequence $\\{x_n\\} \\rightarrow x_0$, the sequence\n",
    "\n",
    "$$\\left\\{ \\frac{f(x_n) - f(x_0)}{x_n - x_0} \\right\\}$$\n",
    "\n",
    "converges, in which case this limit is called the derivative of $f(x)$ at $x_0$.  As with the usual definition, these sequences can converge from either the left or the right.    To prove that a function is CND, then, we simply need to find such a sequence for which the limit fails to converge."
   ]
  },
  {
   "cell_type": "markdown",
   "id": "8f210757",
   "metadata": {},
   "source": [
    "### Statement of Theorem\n",
    "\n",
    "The Weierstrass function\n",
    "$$ W(x) = \\sum_{n=0}^{\\infty} a^n \\cos(b^n \\pi x)$$\n",
    "\n",
    "for $0 < a < 1$, $ab > 1 + \\frac{3}{2}\\pi$, and $b>1$ an odd integer is continuous everywhere and differentiable nowhere on the real line."
   ]
  },
  {
   "cell_type": "markdown",
   "id": "2eb6b3b5",
   "metadata": {},
   "source": [
    "### Continuity\n",
    "\n",
    "This follows relatively easily from several results from Real Analysis:\n",
    " - the limit of a uniformly convergent series of continuous functions is itself continuous\n",
    " \n",
    " - the series of functions $\\sum_{n=0}^{\\infty} f_n(x)$ is uniformly convergent if there exist constants $M_n$ such that $|f_n(x)| < M_n$ for each n and for all x, and for which $\\sum_{n=0}^{\\infty} M_n$ converges.  This is known as the \"Weierstrass M-test\".\n",
    " \n",
    " - $|f_n(x)| = |a^n cos(b^n \\pi x)| \\le a^n = M_n$, and the geometric series is easily evaluated: $\\sum_{n=0}^{\\infty} a^n = \\frac{1}{1-a}$."
   ]
  },
  {
   "cell_type": "markdown",
   "id": "4c61d9db",
   "metadata": {},
   "source": [
    "### Non-differentiability\n",
    "\n",
    "This is a bit more involved, but still relies only on elementary methods."
   ]
  },
  {
   "cell_type": "markdown",
   "id": "130a9dfa",
   "metadata": {},
   "source": [
    "### Idea:  \n",
    "\n",
    "Construct two different sequences $\\{x_n\\}$ that both converge to $x_0$, one from above, the other from below, and show that they generate different limiting values of the derivative quotient.\n",
    "\n",
    "For fixed $b \\in \\mathbb{Z}^+$ and index integer $m$, choose another integer $\\alpha_m \\in \\mathbb{Z}^+$ such that $-\\frac{1}{2} < b^m x_0 - \\alpha_m \\le \\frac{1}{2}$.  Then $\\left| \\frac{\\alpha_m}{b^m} - x_0 \\right| < \\frac{1}{2b^m}$, so \n",
    "$$\\lim_{m \\rightarrow \\infty} \\frac{\\alpha_m}{b^m} = x_0$$\n",
    "\n",
    "Define the sequence $x_{m+1} = b^m x_0 - \\alpha_m$, which we will use to establish properties of our two main sequences, as well as later in the proof.  Note from above that $-\\frac{1}{2} < x_{m+1} \\le \\frac{1}{2}$.  The two main sequences will be:\n",
    "\n",
    "$$y_m = \\frac{\\alpha_m - 1}{b^m} \\text{ and } z_m = \\frac{\\alpha_m + 1}{b^m}$$.\n",
    "\n",
    "Then \n",
    "\n",
    "$$y_m - x_0 = \\frac{\\alpha_m - 1}{b^m} - x_0 = \\frac{\\alpha_m - 1 -b^mx_0}{b^m} = -\\frac{1+x_{m+1}}{b^m} < 0,$$\n",
    "\n",
    "Similarly, \n",
    "\n",
    "$$yz_m - x_0 = \\frac{\\alpha_m + 1}{b^m} - x_0 = \\frac{\\alpha_m + 1 -b^mx_0}{b^m} = \\frac{1-x_{m+1}}{b^m} > 0.$$\n",
    "\n",
    "This establishes that $y_m < x_0$ and $z_m > x_0$ for all $m$.  Since both sequences converge to $x_0$ as $m \\rightarrow \\infty$, we have two sequences converging from different directions."
   ]
  },
  {
   "cell_type": "markdown",
   "id": "5522c979",
   "metadata": {},
   "source": [
    "### The Tools\n",
    "\n",
    "Here are the other results we will need in the proof:\n",
    "1. $ \\cos x - \\cos y = -2 \\sin \\frac{1}{2}(x+y) \\sin \\frac{1}{2}(x-y)$\n",
    "2. $\\left| \\sum_{r=1}^n a_r \\right| \\le \\sum_{r=1}^n |a_n|$  (the triangle inequality)\n",
    "3. $|\\frac{\\sin x}{x} | \\le 1$\n",
    "4. $\\sum_{n=0}^{m-1} r^n = (r^m-1)/(r-1)$\n",
    "5. $\\cos(\\theta + \\phi) = \\cos \\theta \\cos \\phi - \\sin \\theta \\sin \\phi$"
   ]
  },
  {
   "cell_type": "markdown",
   "id": "5f2e85d7",
   "metadata": {},
   "source": [
    "### The Left Limit\n",
    "\n",
    "Split the difference quotient in two, renumber one of the sums, and then label for future reference:\n",
    "\n",
    "$$\\frac{W(y_m) - W(x_0)}{y_m - x_0} = \\sum_{n=0}^{\\infty} a^n \\frac{\\cos(b^n\\pi y_m) - \\cos(b^n\\pi x_0)}{y_m-x_0} $$\n",
    "$$=\\sum_{n=0}^{m-1} (ab)^n \\frac{\\cos(b^n\\pi y_m) - \\cos(b^n\\pi x_0)}{b^n(y_m-x_0)} + \\sum_{n=m}^{\\infty} a^n \\frac{\\cos(b^n\\pi y_m) - \\cos(b^n\\pi x_0)}{y_m-x_0}$$\n",
    "$$=\\sum_{n=0}^{m-1} (ab)^n \\frac{\\cos(b^n\\pi y_m) - \\cos(b^n\\pi x_0)}{b^n(y_m-x_0)} + \\sum_{n=0}^{\\infty} a^{(n+m)} \\frac{\\cos(b^{(n+m)}\\pi y_m) - \\cos(b^{(n+m)}\\pi x_0)}{y_m-x_0}$$\n",
    "\n",
    "$$=S_1 + S_2$$\n",
    "\n",
    "Evaluate these sums separately.  Starting with $S_1$, use tool (1) from above:\n",
    "\n",
    "$$S_1 = \\sum_{n=0}^{m-1} (ab)^n \\frac{-2 \\sin (\\frac{1}{2}(b^n \\pi y_m + b^n \\pi x_0)) \\sin(\\frac{1}{2}((b^n \\pi y_m - b^n \\pi x_0))}{b^n (y_m - x_0)}$$\n",
    "$$ = \\sum_{n=0}^{m-1} -\\pi (ab)^n \\sin \\left( \\frac{b^n \\pi (y_m + x_0)}{2} \\right) \\frac{ \\sin (\\frac{1}{2}b^n \\pi (y_m - x_0) )}{\\frac{1}{2} b^n \\pi (y_m - x_0)}$$\n",
    "\n",
    "Taking the absolute value of this, we then apply tool (2) from above, followed by tool (3) (along with $|\\sin x| \\le 1$) and finally tool (4):\n",
    "\n",
    "$$|S_1| \\le \\pi \\sum_{n=0}^{m-1} (ab)^n \\left| \\sin \\left( \\frac{b^n \\pi (y_m + x_0)}{2} \\right) \\right| \\left| \\frac{ \\sin (\\frac{1}{2}b^n \\pi (y_m - x_0) )}{\\frac{1}{2} b^n \\pi (y_m - x_0)} \\right| $$\n",
    "$$ \\le \\pi \\sum_{n=0}^{m-1} (ab)^n$$\n",
    "$$ = \\pi \\frac{(ab)^m -1}{ab - 1} < \\frac{\\pi (ab)^m}{ab - 1}$$\n",
    "\n",
    "so that for some $\\varepsilon_1 \\in (-1,1)$ we can write\n",
    "<font color='blue'>\n",
    "$$S_1 = (ab)^m \\frac{\\pi}{ab-1} \\varepsilon_1.$$\n",
    "    </font>"
   ]
  },
  {
   "cell_type": "markdown",
   "id": "c2a11c87",
   "metadata": {},
   "source": [
    "Now consider the sum $S_2$. First, focus on its numerator.  In the first $\\cos$ term, using the definition of $y_m$, we can cancel a factor of $b^m$, then simplify dramatically using the fact that $b$ is an odd integer:\n",
    "$$\\cos(b^{m+n} \\pi y_m) = \\cos \\left( b^{m+n} \\pi \\frac{\\alpha_m -1}{b^m} \\right)$$\n",
    "$$ = cos(b^n (\\alpha_m - 1) \\pi ) = (-1)^{b^n(\\alpha_m - 1)}$$\n",
    "$$ = [(-1)^{b^n}]^{\\alpha_m - 1} = (-1)^{\\alpha_m - 1} = -(-1)^{\\alpha_m},$$\n",
    "since \n",
    "$$ \\cos N \\pi = \\begin{cases} 1: & N \\text{ even} \\\\ -1: & N \\text { odd} \\end{cases} = (-1)^N$$\n",
    "\n",
    "We can do something similar in the second $\\cos$ term of the numerator, using $x_0$ rewritten as:\n",
    "\n",
    "$$x_{m+1} = b^m x_0 - \\alpha_m \\Rightarrow x_0 = \\frac{\\alpha_m + x_{m+1}}{b^m}.$$\n",
    "\n",
    "Insert this result into the second term, use tool (5) from above to get (keeping in mind that $\\alpha_m \\in \\mathbb{Z}$):\n",
    "\n",
    "$$\\cos(b^{m+n}\\pi x_0) = \\cos \\left( b^{m+n} \\pi \\frac{\\alpha_m + x_{m+1}}{b^m} \\right) = \\cos (b^n \\pi \\alpha_m + b^n \\pi x_{m+1})$$\n",
    "$$ = \\cos(b^n \\pi \\alpha_m) \\cos(b^n \\pi x_{m+1}) - \\sin(b^n \\pi \\alpha_m) \\sin(b^n \\pi x_{m+1})$$\n",
    "$$ = [(-1)^{b^n}]^{\\alpha_m} \\cos(b^n \\pi x_{m+1}) - 0 $$\n",
    "$$= (-1)^{\\alpha_m} \\cos(b^n \\pi x_{m+1})$$\n",
    "\n",
    "Now put the pieces back into $S_2$, and insert the definition of $y_m$ in the denominator to get:\n",
    "\n",
    "$$S_2 = \\sum_{n=0}^{\\infty} a^{m+n} \\frac{-(-1)^{\\alpha_m} - (-1)^{\\alpha_m} \\cos (b^n \\pi x_{m+1})}{-(1+x_{m+1})/b^m}$$\n",
    "$$ = (ab)^m (-1)^{\\alpha_m} \\sum_{n=0}^{\\infty} a^n \\frac{1 + \\cos(b^n \\pi x_{m+1})}{1 + x_{m+1}}$$\n",
    "\n",
    "Note that each term in this final sum is necessarily non-negative.  Recall that $0 < a < 1$, and by definition $-\\frac{1}{2} < x_{m+1} \\le \\frac{1}{2}$ (so that $-\\frac{1}{2}\\pi < \\pi x_{m+1} \\le \\frac{1}{2} \\pi$, and hence $\\cos(\\pi x_{m+1}) \\ge 0$), and of course, $1 + \\cos(\\text{anything}) \\ge 0$.  Therefore, the sum is necessarily greater than or equal to its first term:\n",
    "\n",
    "$$\\sum_{n=0}^{\\infty} a^n \\frac{1 + \\cos(b^n \\pi x_{m+1})}{1 + x_{m+1}} \\ge \\frac{1 + \\cos(\\pi x_{m+1})}{1 + x_{m+1}} \\ge \\frac{1+0}{1 + \\frac{1}{2}} = \\frac{2}{3}$$\n",
    "\n",
    "This means that for some choice of $\\eta_1 > 1$, \n",
    "\n",
    "<font color='blue'>\n",
    "    $$S_2 = (ab)^m(-1)^{\\alpha_m} \\times \\frac{2}{3} \\times \\eta_1$$\n",
    "    </font>"
   ]
  },
  {
   "cell_type": "markdown",
   "id": "657f84c0",
   "metadata": {},
   "source": [
    "Finally, putting together these results gives the left hand ratio:\n",
    "\n",
    "$$ \\frac{W(y_m) - W(x_0)}{y_m - x_0} = (ab)^m \\frac{\\pi}{ab-1} \\varepsilon_1 + (ab)^m(-1)^{\\alpha_m} \\times \\frac{2}{3} \\times \\eta_1$$\n",
    "\n",
    "**$$ = (-1)^{\\alpha_m} (ab)^m \\eta_1 \\left( \\frac{\\pi }{ab - 1} \\frac{\\varepsilon_1}{\\eta_1} + \\frac{2}{3} \\right)$$**"
   ]
  },
  {
   "cell_type": "markdown",
   "id": "321bb2d6",
   "metadata": {},
   "source": [
    "$$\\require{color}$$\n",
    "### The Right Limit\n",
    "\n",
    "Repeating the above steps, we get the expression:\n",
    "\n",
    "$$\\frac{W(z_m) - W(x_0)}{z_m - x_0} = \\color{red}{-} \\color{black}(-1)^{\\alpha_m} (ab)^m \\eta_2 \\left( \\frac{\\pi }{ab - 1} \\frac{\\varepsilon_2}{\\eta_2} + \\frac{2}{3} \\right),$$\n",
    "\n",
    "where $\\varepsilon_2 \\in (-1,1)$ and $\\eta_2 > 1$.  Note the **crucial** leading sign difference!"
   ]
  },
  {
   "cell_type": "markdown",
   "id": "c9f52f97",
   "metadata": {},
   "source": [
    "## Conclusion\n",
    "\n",
    "Note that $| \\frac{\\varepsilon_1}{\\eta_1} | < 1$ (and similarly for $| \\frac{\\varepsilon_2}{\\eta_2} |$).  Our initial requirement that $ab > 1 + \\frac{3}{2}\\pi$ guarantees that $\\frac{\\pi }{ab - 1} < \\frac{2}{3}$, so that the left and right hand difference quotients have differents signs and do not approach zero.  Since $\\lim_{m \\rightarrow \\infty} (ab)^m = \\infty$, the function has no derivative at the arbitrarily chosen point $x_0$, hence no derivative anywhere!"
   ]
  },
  {
   "cell_type": "markdown",
   "id": "a214e531",
   "metadata": {},
   "source": [
    "## Finally\n",
    "\n",
    "Many other CND functions have since been found, including (to list a few) the Darboux function (1875), Dini functions (1877), , the Takagi function (1903), the Van der Waerden function (1930), the Faber functions (1907-8), the Knopp functions (1918),  the McCarthy function (1953) and the Wen function (2002).  I'll leave to the interested reader to Google the functions.\n",
    "\n",
    "What is the arc length of the Weierstrass function?\n",
    "\n",
    "Since the usual arc length (see the Euler Spiral notebook) is:\n",
    "\n",
    "$$ \\int_a^b \\sqrt{1 + \\left( \\frac{dy}{dx} \\right)^2} dx,$$\n",
    "\n",
    "and the Weierstrass function has no derivative, the arc length might be hard to come by.\n",
    "\n",
    "A rough (non-technical) outline of some related concepts:\n",
    "\n",
    "- A function is of *bounded variation* if it cannot oscillate too often with amplitudes thatt are not too large.\n",
    "- A curve is *rectifiable* if there is a meaningful concept of its length.\n",
    "- A curve is rectifiable if and only if it is of bounded variation.\n",
    "- If a function is of bounded variation, then it is differentiable almost everywhere.\n",
    "\n",
    "Using the contrapositive of the last statement, the Weierstrass function has no defined arc length over any interval!"
   ]
  },
  {
   "cell_type": "markdown",
   "id": "0a6b7737",
   "metadata": {},
   "source": [
    "#### Implementation notes:\n",
    "\n",
    "Both ```matplotlib``` and ```bqplot``` were used for plotting purposes; the latter for interative plots, and the former for inline plots.  ```from bqplot.interacts import BrushIntervalSelector``` gave access to the plot selection widget.   ```ipywidgets``` was the source for other interactive widgets."
   ]
  }
 ],
 "metadata": {
  "kernelspec": {
   "display_name": "Python 3",
   "language": "python",
   "name": "python3"
  },
  "language_info": {
   "codemirror_mode": {
    "name": "ipython",
    "version": 3
   },
   "file_extension": ".py",
   "mimetype": "text/x-python",
   "name": "python",
   "nbconvert_exporter": "python",
   "pygments_lexer": "ipython3",
   "version": "3.8.8"
  }
 },
 "nbformat": 4,
 "nbformat_minor": 5
}
